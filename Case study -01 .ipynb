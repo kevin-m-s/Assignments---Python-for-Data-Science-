{
 "cells": [
  {
   "cell_type": "markdown",
   "id": "99b60be9",
   "metadata": {},
   "source": [
    "# Case study #01 \n",
    "\n",
    "Do the following operations on ‘cars_data’ dataset:\n",
    "1. Read the dataset to the python environment.\n",
    "2. Check for the null values present in the dataset.\n",
    "3. Plot a bar graph of male vs female buyers participated in the sales.\n",
    "4. Find the top 5 cars based on their sales price.\n",
    "5. Find the least 5 cars based on their Resell price."
   ]
  },
  {
   "cell_type": "code",
   "execution_count": 1,
   "id": "d0055c7c",
   "metadata": {},
   "outputs": [],
   "source": [
    "#importing pandas,numply,matplotlib.pyplot,seaborn libaries\n",
    "import pandas as pd\n",
    "import numpy as np\n",
    "import matplotlib.pyplot as plt\n",
    "import seaborn as sns"
   ]
  },
  {
   "cell_type": "markdown",
   "id": "44f7d33c",
   "metadata": {},
   "source": [
    "**01.Read the dataset to the python environment.**"
   ]
  },
  {
   "cell_type": "code",
   "execution_count": 2,
   "id": "814ff6a1",
   "metadata": {},
   "outputs": [],
   "source": [
    "#reading 'cars_data' data into a pandas dataframe from a csv file\n",
    "data=pd.read_csv('cars_data.csv')"
   ]
  },
  {
   "cell_type": "code",
   "execution_count": 3,
   "id": "0b03bab6",
   "metadata": {},
   "outputs": [
    {
     "data": {
      "text/plain": [
       "Index(['Make', 'Model', 'Nickname', 'Car Gender', 'Buyer Gender', 'Buyer Age',\n",
       "       'Buzzword', 'Country', 'City', 'Dealer Latitude', 'Dealer Longitude',\n",
       "       'Color', 'New Car', 'Purchase Date', 'Sale Price', 'Discount',\n",
       "       'Resell Price', '5-yr Depreciation', 'Top Speed', '0-60 Time'],\n",
       "      dtype='object')"
      ]
     },
     "execution_count": 3,
     "metadata": {},
     "output_type": "execute_result"
    }
   ],
   "source": [
    "#Displaying the columns in the dataset\n",
    "data.columns"
   ]
  },
  {
   "cell_type": "code",
   "execution_count": 4,
   "id": "60b89e92",
   "metadata": {},
   "outputs": [
    {
     "data": {
      "text/html": [
       "<div>\n",
       "<style scoped>\n",
       "    .dataframe tbody tr th:only-of-type {\n",
       "        vertical-align: middle;\n",
       "    }\n",
       "\n",
       "    .dataframe tbody tr th {\n",
       "        vertical-align: top;\n",
       "    }\n",
       "\n",
       "    .dataframe thead th {\n",
       "        text-align: right;\n",
       "    }\n",
       "</style>\n",
       "<table border=\"1\" class=\"dataframe\">\n",
       "  <thead>\n",
       "    <tr style=\"text-align: right;\">\n",
       "      <th></th>\n",
       "      <th>Make</th>\n",
       "      <th>Model</th>\n",
       "      <th>Nickname</th>\n",
       "      <th>Car Gender</th>\n",
       "      <th>Buyer Gender</th>\n",
       "      <th>Buyer Age</th>\n",
       "      <th>Buzzword</th>\n",
       "      <th>Country</th>\n",
       "      <th>City</th>\n",
       "      <th>Dealer Latitude</th>\n",
       "      <th>Dealer Longitude</th>\n",
       "      <th>Color</th>\n",
       "      <th>New Car</th>\n",
       "      <th>Purchase Date</th>\n",
       "      <th>Sale Price</th>\n",
       "      <th>Discount</th>\n",
       "      <th>Resell Price</th>\n",
       "      <th>5-yr Depreciation</th>\n",
       "      <th>Top Speed</th>\n",
       "      <th>0-60 Time</th>\n",
       "    </tr>\n",
       "  </thead>\n",
       "  <tbody>\n",
       "    <tr>\n",
       "      <th>0</th>\n",
       "      <td>Suzuki</td>\n",
       "      <td>Vitara</td>\n",
       "      <td>Philippine</td>\n",
       "      <td>Female</td>\n",
       "      <td>Female</td>\n",
       "      <td>51</td>\n",
       "      <td>User-friendly</td>\n",
       "      <td>Belgium</td>\n",
       "      <td>Antwerpen</td>\n",
       "      <td>51.247239</td>\n",
       "      <td>4.440346</td>\n",
       "      <td>Yellow</td>\n",
       "      <td>False</td>\n",
       "      <td>19/07/2009</td>\n",
       "      <td>54806.14</td>\n",
       "      <td>0.2467</td>\n",
       "      <td>33858.32</td>\n",
       "      <td>0.13</td>\n",
       "      <td>200.9</td>\n",
       "      <td>11.5</td>\n",
       "    </tr>\n",
       "    <tr>\n",
       "      <th>1</th>\n",
       "      <td>Honda</td>\n",
       "      <td>S2000</td>\n",
       "      <td>Henrik</td>\n",
       "      <td>Male</td>\n",
       "      <td>Male</td>\n",
       "      <td>30</td>\n",
       "      <td>analyzing</td>\n",
       "      <td>China</td>\n",
       "      <td>Jinhu</td>\n",
       "      <td>33.025433</td>\n",
       "      <td>119.020584</td>\n",
       "      <td>Crimson</td>\n",
       "      <td>False</td>\n",
       "      <td>26/10/2015</td>\n",
       "      <td>51826.30</td>\n",
       "      <td>0.3147</td>\n",
       "      <td>2989.28</td>\n",
       "      <td>0.02</td>\n",
       "      <td>158.5</td>\n",
       "      <td>8.8</td>\n",
       "    </tr>\n",
       "    <tr>\n",
       "      <th>2</th>\n",
       "      <td>BMW</td>\n",
       "      <td>Z4</td>\n",
       "      <td>Lebbie</td>\n",
       "      <td>Male</td>\n",
       "      <td>Female</td>\n",
       "      <td>54</td>\n",
       "      <td>software</td>\n",
       "      <td>China</td>\n",
       "      <td>Gemo</td>\n",
       "      <td>30.916207</td>\n",
       "      <td>121.677640</td>\n",
       "      <td>Khaki</td>\n",
       "      <td>False</td>\n",
       "      <td>28/03/2010</td>\n",
       "      <td>82929.14</td>\n",
       "      <td>0.5414</td>\n",
       "      <td>35049.16</td>\n",
       "      <td>0.24</td>\n",
       "      <td>149.5</td>\n",
       "      <td>14.4</td>\n",
       "    </tr>\n",
       "    <tr>\n",
       "      <th>3</th>\n",
       "      <td>Toyota</td>\n",
       "      <td>Tacoma</td>\n",
       "      <td>Jefferey</td>\n",
       "      <td>Female</td>\n",
       "      <td>Male</td>\n",
       "      <td>68</td>\n",
       "      <td>monitoring</td>\n",
       "      <td>Portugal</td>\n",
       "      <td>Queluz de Baixo</td>\n",
       "      <td>38.745168</td>\n",
       "      <td>-9.267087</td>\n",
       "      <td>Puce</td>\n",
       "      <td>False</td>\n",
       "      <td>07/05/2008</td>\n",
       "      <td>56928.66</td>\n",
       "      <td>0.0850</td>\n",
       "      <td>8236.15</td>\n",
       "      <td>0.20</td>\n",
       "      <td>153.3</td>\n",
       "      <td>11.5</td>\n",
       "    </tr>\n",
       "    <tr>\n",
       "      <th>4</th>\n",
       "      <td>Ford</td>\n",
       "      <td>Festiva</td>\n",
       "      <td>Glendon</td>\n",
       "      <td>Female</td>\n",
       "      <td>Male</td>\n",
       "      <td>70</td>\n",
       "      <td>Sharable</td>\n",
       "      <td>Latvia</td>\n",
       "      <td>Jaunpils</td>\n",
       "      <td>56.729980</td>\n",
       "      <td>23.016588</td>\n",
       "      <td>Yellow</td>\n",
       "      <td>False</td>\n",
       "      <td>01/06/2008</td>\n",
       "      <td>77201.26</td>\n",
       "      <td>0.1642</td>\n",
       "      <td>32765.76</td>\n",
       "      <td>0.18</td>\n",
       "      <td>122.0</td>\n",
       "      <td>14.9</td>\n",
       "    </tr>\n",
       "  </tbody>\n",
       "</table>\n",
       "</div>"
      ],
      "text/plain": [
       "     Make    Model    Nickname Car Gender Buyer Gender  Buyer Age  \\\n",
       "0  Suzuki   Vitara  Philippine     Female       Female         51   \n",
       "1   Honda    S2000      Henrik       Male         Male         30   \n",
       "2     BMW       Z4      Lebbie       Male       Female         54   \n",
       "3  Toyota   Tacoma    Jefferey     Female         Male         68   \n",
       "4    Ford  Festiva     Glendon     Female         Male         70   \n",
       "\n",
       "        Buzzword   Country             City  Dealer Latitude  \\\n",
       "0  User-friendly   Belgium        Antwerpen        51.247239   \n",
       "1      analyzing     China            Jinhu        33.025433   \n",
       "2       software     China             Gemo        30.916207   \n",
       "3     monitoring  Portugal  Queluz de Baixo        38.745168   \n",
       "4       Sharable    Latvia         Jaunpils        56.729980   \n",
       "\n",
       "   Dealer Longitude    Color  New Car Purchase Date  Sale Price  Discount  \\\n",
       "0          4.440346   Yellow    False    19/07/2009    54806.14    0.2467   \n",
       "1        119.020584  Crimson    False    26/10/2015    51826.30    0.3147   \n",
       "2        121.677640    Khaki    False    28/03/2010    82929.14    0.5414   \n",
       "3         -9.267087     Puce    False    07/05/2008    56928.66    0.0850   \n",
       "4         23.016588   Yellow    False    01/06/2008    77201.26    0.1642   \n",
       "\n",
       "   Resell Price  5-yr Depreciation  Top Speed  0-60 Time  \n",
       "0      33858.32               0.13      200.9       11.5  \n",
       "1       2989.28               0.02      158.5        8.8  \n",
       "2      35049.16               0.24      149.5       14.4  \n",
       "3       8236.15               0.20      153.3       11.5  \n",
       "4      32765.76               0.18      122.0       14.9  "
      ]
     },
     "execution_count": 4,
     "metadata": {},
     "output_type": "execute_result"
    }
   ],
   "source": [
    "#displaying  top 5  rows of the dataset\n",
    "data.head()"
   ]
  },
  {
   "cell_type": "code",
   "execution_count": 5,
   "id": "e42ba794",
   "metadata": {},
   "outputs": [
    {
     "data": {
      "text/plain": [
       "Make                  object\n",
       "Model                 object\n",
       "Nickname              object\n",
       "Car Gender            object\n",
       "Buyer Gender          object\n",
       "Buyer Age              int64\n",
       "Buzzword              object\n",
       "Country               object\n",
       "City                  object\n",
       "Dealer Latitude      float64\n",
       "Dealer Longitude     float64\n",
       "Color                 object\n",
       "New Car                 bool\n",
       "Purchase Date         object\n",
       "Sale Price           float64\n",
       "Discount             float64\n",
       "Resell Price         float64\n",
       "5-yr Depreciation    float64\n",
       "Top Speed            float64\n",
       "0-60 Time            float64\n",
       "dtype: object"
      ]
     },
     "execution_count": 5,
     "metadata": {},
     "output_type": "execute_result"
    }
   ],
   "source": [
    "#checking data types of each columns\n",
    "data.dtypes"
   ]
  },
  {
   "cell_type": "markdown",
   "id": "66420d7f",
   "metadata": {},
   "source": [
    "**02. Check for the null values present in the dataset.**"
   ]
  },
  {
   "cell_type": "code",
   "execution_count": 6,
   "id": "2fabcaec",
   "metadata": {},
   "outputs": [
    {
     "data": {
      "text/plain": [
       "Make                 0\n",
       "Model                0\n",
       "Nickname             0\n",
       "Car Gender           0\n",
       "Buyer Gender         0\n",
       "Buyer Age            0\n",
       "Buzzword             0\n",
       "Country              0\n",
       "City                 0\n",
       "Dealer Latitude      0\n",
       "Dealer Longitude     0\n",
       "Color                0\n",
       "New Car              0\n",
       "Purchase Date        0\n",
       "Sale Price           0\n",
       "Discount             0\n",
       "Resell Price         0\n",
       "5-yr Depreciation    0\n",
       "Top Speed            0\n",
       "0-60 Time            0\n",
       "dtype: int64"
      ]
     },
     "execution_count": 6,
     "metadata": {},
     "output_type": "execute_result"
    }
   ],
   "source": [
    "#Check for the null values present in each column of  dataset using 'isnull().sum()' function\n",
    "data.isnull().sum()"
   ]
  },
  {
   "cell_type": "markdown",
   "id": "8646554b",
   "metadata": {},
   "source": [
    "**Observation**\n",
    "\n",
    "There is no null value present in theses columns "
   ]
  },
  {
   "cell_type": "markdown",
   "id": "629106ed",
   "metadata": {},
   "source": [
    "**3. Plot a bar graph of male vs female buyers participated in the sales.**"
   ]
  },
  {
   "cell_type": "markdown",
   "id": "2756de67",
   "metadata": {},
   "source": [
    "**Graph-1** - Bar graph"
   ]
  },
  {
   "cell_type": "code",
   "execution_count": 7,
   "id": "25244b2d",
   "metadata": {},
   "outputs": [
    {
     "data": {
      "image/png": "[encoded data removed]",
      "text/plain": [
       "<Figure size 432x288 with 1 Axes>"
      ]
     },
     "metadata": {
      "needs_background": "light"
     },
     "output_type": "display_data"
    }
   ],
   "source": [
    "#Bar graph of male & female buyers participated in the sales\n",
    "plt.hist(data['Buyer Gender'],color='red')\n",
    "plt.grid(color = 'black', linestyle = '--', linewidth = 1.5)\n",
    "plt.title(\"male & female buyers participated in the sales\")\n",
    "plt.show()"
   ]
  },
  {
   "cell_type": "markdown",
   "id": "fe219477",
   "metadata": {},
   "source": [
    "**Graph-2** - Countplot graph"
   ]
  },
  {
   "cell_type": "code",
   "execution_count": 20,
   "id": "af176d33",
   "metadata": {},
   "outputs": [
    {
     "data": {
      "image/png": "[encoded data removed]",
      "text/plain": [
       "<Figure size 432x360 with 1 Axes>"
      ]
     },
     "metadata": {},
     "output_type": "display_data"
    }
   ],
   "source": [
    "data['Buyer Gender'].value_counts().plot(kind='bar', figsize=(6, 5), rot=0)\n",
    "plt.title(\"male & female buyers participated in the sales\")\n",
    "plt.show()"
   ]
  },
  {
   "cell_type": "markdown",
   "id": "6bafdf73",
   "metadata": {},
   "source": [
    "**Observation**\n",
    "\n",
    "- From graph ,we can understand that there is no much difference in  female and male buyers for car buying "
   ]
  },
  {
   "cell_type": "markdown",
   "id": "4b513565",
   "metadata": {},
   "source": [
    "**04.Find the top 5 cars based on their sales price**"
   ]
  },
  {
   "cell_type": "code",
   "execution_count": 21,
   "id": "3a8ba89d",
   "metadata": {},
   "outputs": [],
   "source": [
    "#creating a new data frame with only required columns \n",
    "df=data[['Make','Model','Sale Price']]"
   ]
  },
  {
   "cell_type": "code",
   "execution_count": 22,
   "id": "1aed7acf",
   "metadata": {},
   "outputs": [
    {
     "data": {
      "text/html": [
       "<div>\n",
       "<style scoped>\n",
       "    .dataframe tbody tr th:only-of-type {\n",
       "        vertical-align: middle;\n",
       "    }\n",
       "\n",
       "    .dataframe tbody tr th {\n",
       "        vertical-align: top;\n",
       "    }\n",
       "\n",
       "    .dataframe thead th {\n",
       "        text-align: right;\n",
       "    }\n",
       "</style>\n",
       "<table border=\"1\" class=\"dataframe\">\n",
       "  <thead>\n",
       "    <tr style=\"text-align: right;\">\n",
       "      <th></th>\n",
       "      <th>Make</th>\n",
       "      <th>Model</th>\n",
       "      <th>Sale Price</th>\n",
       "    </tr>\n",
       "  </thead>\n",
       "  <tbody>\n",
       "    <tr>\n",
       "      <th>5984</th>\n",
       "      <td>Volkswagen</td>\n",
       "      <td>Jetta III</td>\n",
       "      <td>99997.65</td>\n",
       "    </tr>\n",
       "    <tr>\n",
       "      <th>1270</th>\n",
       "      <td>Audi</td>\n",
       "      <td>A6</td>\n",
       "      <td>99991.91</td>\n",
       "    </tr>\n",
       "    <tr>\n",
       "      <th>3460</th>\n",
       "      <td>Lexus</td>\n",
       "      <td>LX</td>\n",
       "      <td>99983.38</td>\n",
       "    </tr>\n",
       "    <tr>\n",
       "      <th>9032</th>\n",
       "      <td>Mazda</td>\n",
       "      <td>MX-6</td>\n",
       "      <td>99978.17</td>\n",
       "    </tr>\n",
       "    <tr>\n",
       "      <th>302</th>\n",
       "      <td>Lexus</td>\n",
       "      <td>ES</td>\n",
       "      <td>99973.44</td>\n",
       "    </tr>\n",
       "  </tbody>\n",
       "</table>\n",
       "</div>"
      ],
      "text/plain": [
       "            Make      Model  Sale Price\n",
       "5984  Volkswagen  Jetta III    99997.65\n",
       "1270        Audi         A6    99991.91\n",
       "3460       Lexus         LX    99983.38\n",
       "9032       Mazda       MX-6    99978.17\n",
       "302        Lexus         ES    99973.44"
      ]
     },
     "execution_count": 22,
     "metadata": {},
     "output_type": "execute_result"
    }
   ],
   "source": [
    "# top 5 cars based on their sales price\n",
    "sorted_price = df.sort_values(by='Sale Price',ascending=False)\n",
    "sorted_price.head()"
   ]
  },
  {
   "cell_type": "markdown",
   "id": "2cb968b0",
   "metadata": {},
   "source": [
    "**05.Find the least 5 cars based on their Resell price.**"
   ]
  },
  {
   "cell_type": "code",
   "execution_count": 23,
   "id": "3f4faa95",
   "metadata": {},
   "outputs": [],
   "source": [
    "#creating a new data frame with only required columns \n",
    "df1=data[['Make','Model','Resell Price']]"
   ]
  },
  {
   "cell_type": "code",
   "execution_count": 12,
   "id": "a0ad7d92",
   "metadata": {},
   "outputs": [
    {
     "data": {
      "text/html": [
       "<style  type=\"text/css\" >\n",
       "</style><table id=\"T_58479_\" ><thead>    <tr>        <th class=\"col_heading level0 col0\" >Make</th>        <th class=\"col_heading level0 col1\" >Model</th>        <th class=\"col_heading level0 col2\" >Resell Price</th>    </tr></thead><tbody>\n",
       "                <tr>\n",
       "                                <td id=\"T_58479_row0_col0\" class=\"data row0 col0\" >Chevrolet</td>\n",
       "                        <td id=\"T_58479_row0_col1\" class=\"data row0 col1\" >1500</td>\n",
       "                        <td id=\"T_58479_row0_col2\" class=\"data row0 col2\" >2000.840000</td>\n",
       "            </tr>\n",
       "            <tr>\n",
       "                                <td id=\"T_58479_row1_col0\" class=\"data row1 col0\" >GMC</td>\n",
       "                        <td id=\"T_58479_row1_col1\" class=\"data row1 col1\" >Savana 1500</td>\n",
       "                        <td id=\"T_58479_row1_col2\" class=\"data row1 col2\" >2005.440000</td>\n",
       "            </tr>\n",
       "            <tr>\n",
       "                                <td id=\"T_58479_row2_col0\" class=\"data row2 col0\" >Jaguar</td>\n",
       "                        <td id=\"T_58479_row2_col1\" class=\"data row2 col1\" >XF</td>\n",
       "                        <td id=\"T_58479_row2_col2\" class=\"data row2 col2\" >2014.090000</td>\n",
       "            </tr>\n",
       "            <tr>\n",
       "                                <td id=\"T_58479_row3_col0\" class=\"data row3 col0\" >Mitsubishi</td>\n",
       "                        <td id=\"T_58479_row3_col1\" class=\"data row3 col1\" >3000GT</td>\n",
       "                        <td id=\"T_58479_row3_col2\" class=\"data row3 col2\" >2017.240000</td>\n",
       "            </tr>\n",
       "            <tr>\n",
       "                                <td id=\"T_58479_row4_col0\" class=\"data row4 col0\" >Infiniti</td>\n",
       "                        <td id=\"T_58479_row4_col1\" class=\"data row4 col1\" >G37</td>\n",
       "                        <td id=\"T_58479_row4_col2\" class=\"data row4 col2\" >2017.830000</td>\n",
       "            </tr>\n",
       "    </tbody></table>"
      ],
      "text/plain": [
       "<pandas.io.formats.style.Styler at 0x21ab9a31d00>"
      ]
     },
     "execution_count": 12,
     "metadata": {},
     "output_type": "execute_result"
    }
   ],
   "source": [
    "# Least 5 cars based on their Resell price\n",
    "sorted_price1 = df1.sort_values(by='Resell Price')\n",
    "sorted_price1.head().style.hide_index()"
   ]
  },
  {
   "cell_type": "markdown",
   "id": "af44271f",
   "metadata": {},
   "source": [
    "`by-Kevin M, DSA Norka B3 2021 `"
   ]
  }
 ],
 "metadata": {
  "kernelspec": {
   "display_name": "Python 3",
   "language": "python",
   "name": "python3"
  },
  "language_info": {
   "codemirror_mode": {
    "name": "ipython",
    "version": 3
   },
   "file_extension": ".py",
   "mimetype": "text/x-python",
   "name": "python",
   "nbconvert_exporter": "python",
   "pygments_lexer": "ipython3",
   "version": "3.8.8"
  }
 },
 "nbformat": 4,
 "nbformat_minor": 5
}
