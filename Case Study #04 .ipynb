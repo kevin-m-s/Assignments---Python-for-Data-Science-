{
 "cells": [
  {
   "cell_type": "markdown",
   "id": "3b89d650",
   "metadata": {},
   "source": [
    "# Case Study on Testing of Hypothesis  "
   ]
  },
  {
   "cell_type": "markdown",
   "id": "beb2e76c",
   "metadata": {},
   "source": [
    "A company started to invest in digital marketing as a new way of their product promotions.For that they collected data and decided to carry out a study on it.\n",
    "\n",
    "● The company wishes to clarify whether there is any increase in sales after stepping into digital marketing.\n",
    "\n",
    "● The company needs to check whether there is any dependency between the features “Region” and “Manager”.\n",
    "\n",
    "   Help the company to carry out their study with the help of data provided."
   ]
  },
  {
   "cell_type": "code",
   "execution_count": 1,
   "id": "d9c81ec0",
   "metadata": {},
   "outputs": [],
   "source": [
    "#importing pandas,numply,matplotlib.pyplot,seaborn libaries\n",
    "import pandas as pd\n",
    "import numpy as np\n",
    "import matplotlib.pyplot as plt\n",
    "import seaborn as sns"
   ]
  },
  {
   "cell_type": "code",
   "execution_count": 2,
   "id": "2df5f812",
   "metadata": {},
   "outputs": [],
   "source": [
    "#Reading the dataset to the python environment\n",
    "data=pd.read_csv('Sales_add.csv')"
   ]
  },
  {
   "cell_type": "code",
   "execution_count": 3,
   "id": "4598bea6",
   "metadata": {},
   "outputs": [
    {
     "data": {
      "text/html": [
       "<div>\n",
       "<style scoped>\n",
       "    .dataframe tbody tr th:only-of-type {\n",
       "        vertical-align: middle;\n",
       "    }\n",
       "\n",
       "    .dataframe tbody tr th {\n",
       "        vertical-align: top;\n",
       "    }\n",
       "\n",
       "    .dataframe thead th {\n",
       "        text-align: right;\n",
       "    }\n",
       "</style>\n",
       "<table border=\"1\" class=\"dataframe\">\n",
       "  <thead>\n",
       "    <tr style=\"text-align: right;\">\n",
       "      <th></th>\n",
       "      <th>Month</th>\n",
       "      <th>Region</th>\n",
       "      <th>Manager</th>\n",
       "      <th>Sales_before_digital_add(in $)</th>\n",
       "      <th>Sales_After_digital_add(in $)</th>\n",
       "    </tr>\n",
       "  </thead>\n",
       "  <tbody>\n",
       "    <tr>\n",
       "      <th>0</th>\n",
       "      <td>Month-1</td>\n",
       "      <td>Region - A</td>\n",
       "      <td>Manager - A</td>\n",
       "      <td>132921</td>\n",
       "      <td>270390</td>\n",
       "    </tr>\n",
       "    <tr>\n",
       "      <th>1</th>\n",
       "      <td>Month-2</td>\n",
       "      <td>Region - A</td>\n",
       "      <td>Manager - C</td>\n",
       "      <td>149559</td>\n",
       "      <td>223334</td>\n",
       "    </tr>\n",
       "    <tr>\n",
       "      <th>2</th>\n",
       "      <td>Month-3</td>\n",
       "      <td>Region - B</td>\n",
       "      <td>Manager - A</td>\n",
       "      <td>146278</td>\n",
       "      <td>244243</td>\n",
       "    </tr>\n",
       "    <tr>\n",
       "      <th>3</th>\n",
       "      <td>Month-4</td>\n",
       "      <td>Region - B</td>\n",
       "      <td>Manager - B</td>\n",
       "      <td>152167</td>\n",
       "      <td>231808</td>\n",
       "    </tr>\n",
       "    <tr>\n",
       "      <th>4</th>\n",
       "      <td>Month-5</td>\n",
       "      <td>Region - C</td>\n",
       "      <td>Manager - B</td>\n",
       "      <td>159525</td>\n",
       "      <td>258402</td>\n",
       "    </tr>\n",
       "  </tbody>\n",
       "</table>\n",
       "</div>"
      ],
      "text/plain": [
       "     Month      Region      Manager  Sales_before_digital_add(in $)  \\\n",
       "0  Month-1  Region - A  Manager - A                          132921   \n",
       "1  Month-2  Region - A  Manager - C                          149559   \n",
       "2  Month-3  Region - B  Manager - A                          146278   \n",
       "3  Month-4  Region - B  Manager - B                          152167   \n",
       "4  Month-5  Region - C  Manager - B                          159525   \n",
       "\n",
       "   Sales_After_digital_add(in $)  \n",
       "0                         270390  \n",
       "1                         223334  \n",
       "2                         244243  \n",
       "3                         231808  \n",
       "4                         258402  "
      ]
     },
     "execution_count": 3,
     "metadata": {},
     "output_type": "execute_result"
    }
   ],
   "source": [
    "#displaying  top 5  rows of the dataset\n",
    "data.head()"
   ]
  },
  {
   "cell_type": "code",
   "execution_count": 4,
   "id": "e9042c2b",
   "metadata": {},
   "outputs": [
    {
     "name": "stdout",
     "output_type": "stream",
     "text": [
      "<class 'pandas.core.frame.DataFrame'>\n",
      "RangeIndex: 22 entries, 0 to 21\n",
      "Data columns (total 5 columns):\n",
      " #   Column                          Non-Null Count  Dtype \n",
      "---  ------                          --------------  ----- \n",
      " 0   Month                           22 non-null     object\n",
      " 1   Region                          22 non-null     object\n",
      " 2   Manager                         22 non-null     object\n",
      " 3   Sales_before_digital_add(in $)  22 non-null     int64 \n",
      " 4   Sales_After_digital_add(in $)   22 non-null     int64 \n",
      "dtypes: int64(2), object(3)\n",
      "memory usage: 1008.0+ bytes\n"
     ]
    }
   ],
   "source": [
    "#To know data types of each columns and checking for null values in the columns\n",
    "data.info()"
   ]
  },
  {
   "cell_type": "markdown",
   "id": "180c8c75",
   "metadata": {},
   "source": [
    "Note-         \n",
    "                                                                                                                       It appears that we do not have empty/NaN values in the dataset, as the number of Non-Null counts for each column is equal to 22, which is exactly the number of rows in the dataset. \n",
    "                                                                                                                       \n",
    "We also note that our numeric data are detected as integer values."
   ]
  },
  {
   "cell_type": "code",
   "execution_count": 5,
   "id": "abb04966",
   "metadata": {},
   "outputs": [
    {
     "data": {
      "text/plain": [
       "Month                             0\n",
       "Region                            0\n",
       "Manager                           0\n",
       "Sales_before_digital_add(in $)    0\n",
       "Sales_After_digital_add(in $)     0\n",
       "dtype: int64"
      ]
     },
     "execution_count": 5,
     "metadata": {},
     "output_type": "execute_result"
    }
   ],
   "source": [
    "#Check for the null values present in each column of  dataset using 'isnull().sum()' function\n",
    "data.isnull().sum()"
   ]
  },
  {
   "cell_type": "markdown",
   "id": "4201d30e",
   "metadata": {},
   "source": [
    "Note-\n",
    "\n",
    "No Null values"
   ]
  },
  {
   "cell_type": "code",
   "execution_count": 6,
   "id": "97084abf",
   "metadata": {},
   "outputs": [
    {
     "data": {
      "text/html": [
       "<div>\n",
       "<style scoped>\n",
       "    .dataframe tbody tr th:only-of-type {\n",
       "        vertical-align: middle;\n",
       "    }\n",
       "\n",
       "    .dataframe tbody tr th {\n",
       "        vertical-align: top;\n",
       "    }\n",
       "\n",
       "    .dataframe thead th {\n",
       "        text-align: right;\n",
       "    }\n",
       "</style>\n",
       "<table border=\"1\" class=\"dataframe\">\n",
       "  <thead>\n",
       "    <tr style=\"text-align: right;\">\n",
       "      <th></th>\n",
       "      <th>Sales_before_digital_add(in $)</th>\n",
       "      <th>Sales_After_digital_add(in $)</th>\n",
       "    </tr>\n",
       "  </thead>\n",
       "  <tbody>\n",
       "    <tr>\n",
       "      <th>count</th>\n",
       "      <td>22.000000</td>\n",
       "      <td>22.000000</td>\n",
       "    </tr>\n",
       "    <tr>\n",
       "      <th>mean</th>\n",
       "      <td>149239.954545</td>\n",
       "      <td>231123.727273</td>\n",
       "    </tr>\n",
       "    <tr>\n",
       "      <th>std</th>\n",
       "      <td>14844.042921</td>\n",
       "      <td>25556.777061</td>\n",
       "    </tr>\n",
       "    <tr>\n",
       "      <th>min</th>\n",
       "      <td>130263.000000</td>\n",
       "      <td>187305.000000</td>\n",
       "    </tr>\n",
       "    <tr>\n",
       "      <th>25%</th>\n",
       "      <td>138087.750000</td>\n",
       "      <td>214960.750000</td>\n",
       "    </tr>\n",
       "    <tr>\n",
       "      <th>50%</th>\n",
       "      <td>147444.000000</td>\n",
       "      <td>229986.500000</td>\n",
       "    </tr>\n",
       "    <tr>\n",
       "      <th>75%</th>\n",
       "      <td>157627.500000</td>\n",
       "      <td>250909.000000</td>\n",
       "    </tr>\n",
       "    <tr>\n",
       "      <th>max</th>\n",
       "      <td>178939.000000</td>\n",
       "      <td>276279.000000</td>\n",
       "    </tr>\n",
       "  </tbody>\n",
       "</table>\n",
       "</div>"
      ],
      "text/plain": [
       "       Sales_before_digital_add(in $)  Sales_After_digital_add(in $)\n",
       "count                       22.000000                      22.000000\n",
       "mean                    149239.954545                  231123.727273\n",
       "std                      14844.042921                   25556.777061\n",
       "min                     130263.000000                  187305.000000\n",
       "25%                     138087.750000                  214960.750000\n",
       "50%                     147444.000000                  229986.500000\n",
       "75%                     157627.500000                  250909.000000\n",
       "max                     178939.000000                  276279.000000"
      ]
     },
     "execution_count": 6,
     "metadata": {},
     "output_type": "execute_result"
    }
   ],
   "source": [
    "# to know  statistical summary of integer datatype columns \n",
    "data.describe()"
   ]
  },
  {
   "cell_type": "code",
   "execution_count": 7,
   "id": "8dfdea5b",
   "metadata": {},
   "outputs": [],
   "source": [
    "#renaming columns\n",
    "data=data.rename(columns={'Sales_before_digital_add(in $)':'Sales_before','Sales_After_digital_add(in $)':'Sales_after'})"
   ]
  },
  {
   "cell_type": "code",
   "execution_count": 8,
   "id": "6819d3c4",
   "metadata": {},
   "outputs": [
    {
     "data": {
      "text/html": [
       "<div>\n",
       "<style scoped>\n",
       "    .dataframe tbody tr th:only-of-type {\n",
       "        vertical-align: middle;\n",
       "    }\n",
       "\n",
       "    .dataframe tbody tr th {\n",
       "        vertical-align: top;\n",
       "    }\n",
       "\n",
       "    .dataframe thead th {\n",
       "        text-align: right;\n",
       "    }\n",
       "</style>\n",
       "<table border=\"1\" class=\"dataframe\">\n",
       "  <thead>\n",
       "    <tr style=\"text-align: right;\">\n",
       "      <th></th>\n",
       "      <th>Month</th>\n",
       "      <th>Region</th>\n",
       "      <th>Manager</th>\n",
       "      <th>Sales_before</th>\n",
       "      <th>Sales_after</th>\n",
       "    </tr>\n",
       "  </thead>\n",
       "  <tbody>\n",
       "    <tr>\n",
       "      <th>0</th>\n",
       "      <td>Month-1</td>\n",
       "      <td>Region - A</td>\n",
       "      <td>Manager - A</td>\n",
       "      <td>132921</td>\n",
       "      <td>270390</td>\n",
       "    </tr>\n",
       "    <tr>\n",
       "      <th>1</th>\n",
       "      <td>Month-2</td>\n",
       "      <td>Region - A</td>\n",
       "      <td>Manager - C</td>\n",
       "      <td>149559</td>\n",
       "      <td>223334</td>\n",
       "    </tr>\n",
       "    <tr>\n",
       "      <th>2</th>\n",
       "      <td>Month-3</td>\n",
       "      <td>Region - B</td>\n",
       "      <td>Manager - A</td>\n",
       "      <td>146278</td>\n",
       "      <td>244243</td>\n",
       "    </tr>\n",
       "    <tr>\n",
       "      <th>3</th>\n",
       "      <td>Month-4</td>\n",
       "      <td>Region - B</td>\n",
       "      <td>Manager - B</td>\n",
       "      <td>152167</td>\n",
       "      <td>231808</td>\n",
       "    </tr>\n",
       "    <tr>\n",
       "      <th>4</th>\n",
       "      <td>Month-5</td>\n",
       "      <td>Region - C</td>\n",
       "      <td>Manager - B</td>\n",
       "      <td>159525</td>\n",
       "      <td>258402</td>\n",
       "    </tr>\n",
       "  </tbody>\n",
       "</table>\n",
       "</div>"
      ],
      "text/plain": [
       "     Month      Region      Manager  Sales_before  Sales_after\n",
       "0  Month-1  Region - A  Manager - A        132921       270390\n",
       "1  Month-2  Region - A  Manager - C        149559       223334\n",
       "2  Month-3  Region - B  Manager - A        146278       244243\n",
       "3  Month-4  Region - B  Manager - B        152167       231808\n",
       "4  Month-5  Region - C  Manager - B        159525       258402"
      ]
     },
     "execution_count": 8,
     "metadata": {},
     "output_type": "execute_result"
    }
   ],
   "source": [
    "#to check new name of the columns\n",
    "data.head()"
   ]
  },
  {
   "cell_type": "markdown",
   "id": "79ceb827",
   "metadata": {},
   "source": [
    "### ● The company wishes to clarify whether there is any increase in sales after stepping into digital marketing."
   ]
  },
  {
   "cell_type": "markdown",
   "id": "cf32944b",
   "metadata": {},
   "source": [
    ">Set the hypothesis "
   ]
  },
  {
   "cell_type": "markdown",
   "id": "1f8a60a0",
   "metadata": {},
   "source": [
    "Null Hypothesis (H0): no increase in sales after stepping into digital marketing\n",
    "\n",
    "Alternate Hypothesis (H1):  increase in sales after stepping into digital marketing."
   ]
  },
  {
   "cell_type": "markdown",
   "id": "b67fa180",
   "metadata": {},
   "source": [
    "Here we check\n",
    "\n",
    "H0 < H1\n",
    "\n",
    "Also sample is less than 30\n",
    "\n",
    " Test we use is - \n",
    "***one tailed Paired sampled t-test***\n",
    "\n",
    "\n"
   ]
  },
  {
   "cell_type": "markdown",
   "id": "5912d3a2",
   "metadata": {},
   "source": [
    ">Set the significance level \n"
   ]
  },
  {
   "cell_type": "markdown",
   "id": "eb343757",
   "metadata": {},
   "source": [
    "Significance  level= 0.05"
   ]
  },
  {
   "cell_type": "code",
   "execution_count": 9,
   "id": "2881fb18",
   "metadata": {},
   "outputs": [
    {
     "data": {
      "text/plain": [
       "149239.95454545456"
      ]
     },
     "execution_count": 9,
     "metadata": {},
     "output_type": "execute_result"
    }
   ],
   "source": [
    "data['Sales_before'].mean()"
   ]
  },
  {
   "cell_type": "code",
   "execution_count": 10,
   "id": "5797327d",
   "metadata": {},
   "outputs": [
    {
     "data": {
      "text/plain": [
       "231123.72727272726"
      ]
     },
     "execution_count": 10,
     "metadata": {},
     "output_type": "execute_result"
    }
   ],
   "source": [
    "data['Sales_after'].mean()"
   ]
  },
  {
   "cell_type": "markdown",
   "id": "a47380f3",
   "metadata": {},
   "source": [
    "Find-\n",
    "\n",
    "mean of sales after stepping into digital marketing is much higher than sales before stepping into digital marketing"
   ]
  },
  {
   "cell_type": "markdown",
   "id": "b496243d",
   "metadata": {},
   "source": [
    ">Computing the test statistics "
   ]
  },
  {
   "cell_type": "code",
   "execution_count": 14,
   "id": "9cf85c98",
   "metadata": {},
   "outputs": [],
   "source": [
    "from scipy.stats import ttest_ind\n",
    "import scipy.stats as stats"
   ]
  },
  {
   "cell_type": "code",
   "execution_count": 71,
   "id": "757b1ba4",
   "metadata": {},
   "outputs": [
    {
     "name": "stdout",
     "output_type": "stream",
     "text": [
      "t-value: 12.09070525287017 p-value: 3.168333502287889e-11\n"
     ]
    }
   ],
   "source": [
    "t_stat, p_val = stats.ttest_rel(data['Sales_after'], data['Sales_before'], alternative='greater')\n",
    "print('t-value:',t_stat,'p-value:',p_val)"
   ]
  },
  {
   "cell_type": "code",
   "execution_count": 72,
   "id": "5fb9c2db",
   "metadata": {},
   "outputs": [
    {
     "name": "stdout",
     "output_type": "stream",
     "text": [
      "p value  0.0\n",
      "Alternate Hypothesis is proved\n"
     ]
    }
   ],
   "source": [
    "print( \"p value \" , round(p_val,4))\n",
    "if p_val > 0.05:\n",
    "    print('Null Hypothesis is proved')\n",
    "else :\n",
    "    print ('Alternate Hypothesis is proved')"
   ]
  },
  {
   "cell_type": "markdown",
   "id": "1bed8634",
   "metadata": {},
   "source": [
    ">Making a Decision "
   ]
  },
  {
   "cell_type": "markdown",
   "id": "974ef867",
   "metadata": {},
   "source": [
    "FInd-\n",
    "\n",
    "*From the Ttest performed,*\n",
    "        \n",
    "pvalue=0.0 < 0.05 \n",
    "\n",
    "so we  reject the null Hypothesis\n",
    "\n",
    "<span style=\"color:red\">there is increase in sales after stepping into digital marketing.</span>"
   ]
  },
  {
   "cell_type": "markdown",
   "id": "61d5827c",
   "metadata": {},
   "source": [
    "---\n"
   ]
  },
  {
   "cell_type": "markdown",
   "id": "6e3cac8f",
   "metadata": {},
   "source": [
    "###  The company needs to check whether there is any dependency between the features “Region” and “Manager”."
   ]
  },
  {
   "cell_type": "markdown",
   "id": "050fc236",
   "metadata": {},
   "source": [
    "###### If we want to check the relationship between two categorical values, we will use the Chi-Squared test.\n"
   ]
  },
  {
   "cell_type": "markdown",
   "id": "81b49235",
   "metadata": {},
   "source": [
    ">Set the hypothesis"
   ]
  },
  {
   "cell_type": "markdown",
   "id": "5633c875",
   "metadata": {},
   "source": [
    "Null Hypothesis:no dependency between the features “Region” and “Manager”.\n",
    "\n",
    "Alternate Hypothesis: there is dependency between the features “Region” and “Manager”"
   ]
  },
  {
   "cell_type": "markdown",
   "id": "70019048",
   "metadata": {},
   "source": [
    ">Set the significance level\n",
    "\n",
    "Significance level= 0.05\n"
   ]
  },
  {
   "cell_type": "markdown",
   "id": "3f58c85b",
   "metadata": {},
   "source": [
    ">Computing the test statistics"
   ]
  },
  {
   "cell_type": "code",
   "execution_count": 20,
   "id": "04b19e54",
   "metadata": {},
   "outputs": [
    {
     "data": {
      "text/html": [
       "<div>\n",
       "<style scoped>\n",
       "    .dataframe tbody tr th:only-of-type {\n",
       "        vertical-align: middle;\n",
       "    }\n",
       "\n",
       "    .dataframe tbody tr th {\n",
       "        vertical-align: top;\n",
       "    }\n",
       "\n",
       "    .dataframe thead th {\n",
       "        text-align: right;\n",
       "    }\n",
       "</style>\n",
       "<table border=\"1\" class=\"dataframe\">\n",
       "  <thead>\n",
       "    <tr style=\"text-align: right;\">\n",
       "      <th>Manager</th>\n",
       "      <th>Manager - A</th>\n",
       "      <th>Manager - B</th>\n",
       "      <th>Manager - C</th>\n",
       "    </tr>\n",
       "    <tr>\n",
       "      <th>Region</th>\n",
       "      <th></th>\n",
       "      <th></th>\n",
       "      <th></th>\n",
       "    </tr>\n",
       "  </thead>\n",
       "  <tbody>\n",
       "    <tr>\n",
       "      <th>Region - A</th>\n",
       "      <td>4</td>\n",
       "      <td>3</td>\n",
       "      <td>3</td>\n",
       "    </tr>\n",
       "    <tr>\n",
       "      <th>Region - B</th>\n",
       "      <td>4</td>\n",
       "      <td>1</td>\n",
       "      <td>2</td>\n",
       "    </tr>\n",
       "    <tr>\n",
       "      <th>Region - C</th>\n",
       "      <td>1</td>\n",
       "      <td>3</td>\n",
       "      <td>1</td>\n",
       "    </tr>\n",
       "  </tbody>\n",
       "</table>\n",
       "</div>"
      ],
      "text/plain": [
       "Manager     Manager - A  Manager - B  Manager - C\n",
       "Region                                           \n",
       "Region - A            4            3            3\n",
       "Region - B            4            1            2\n",
       "Region - C            1            3            1"
      ]
     },
     "execution_count": 20,
     "metadata": {},
     "output_type": "execute_result"
    }
   ],
   "source": [
    "#The easiest way to apply a chi-squared test is to compute the contigency table.\n",
    "\n",
    "from scipy.stats import chi2_contingency\n",
    "contigency= pd.crosstab(data['Region'], data['Manager'])\n",
    "contigency"
   ]
  },
  {
   "cell_type": "markdown",
   "id": "a2012d5d",
   "metadata": {},
   "source": [
    "Note-\n",
    "\n",
    "     Contingency Table  is tally of counts between two or more categorical variables\n",
    "\n",
    "     Contingency Tables are giving clear correlation values between two and more variables. Thus making it much more                      useful to understand the data for further information extraction."
   ]
  },
  {
   "cell_type": "code",
   "execution_count": 62,
   "id": "3e593c86",
   "metadata": {},
   "outputs": [
    {
     "name": "stdout",
     "output_type": "stream",
     "text": [
      "Calculated Chi Square value:     3.050566893424036\n",
      "p-value:            0.55\n",
      "degrees of freedom: 4\n",
      "expected frequencies:\n",
      "[[4.09090909 3.18181818 2.72727273]\n",
      " [2.86363636 2.22727273 1.90909091]\n",
      " [2.04545455 1.59090909 1.36363636]]\n"
     ]
    }
   ],
   "source": [
    "#Chi-square test of independence.\n",
    "Cal_chi, p, dof, expected = chi2_contingency(contigency)\n",
    "print(f\"Calculated Chi Square value:     {Cal_chi}\")\n",
    "print(f\"p-value:            {round(p,2)}\")\n",
    "print(f\"degrees of freedom: {dof}\")\n",
    "print(\"expected frequencies:\")\n",
    "print(expected)"
   ]
  },
  {
   "cell_type": "code",
   "execution_count": 35,
   "id": "ce04c52a",
   "metadata": {},
   "outputs": [
    {
     "name": "stdout",
     "output_type": "stream",
     "text": [
      "Chi-Square critical value:9.487729036781154\n"
     ]
    }
   ],
   "source": [
    "import scipy.stats\n",
    "\n",
    "#find Chi-Square critical value\n",
    "chi_critical=scipy.stats.chi2.ppf(1-.05, df=4)\n",
    "print(f\"Chi-Square critical value:{chi_critical}\")"
   ]
  },
  {
   "cell_type": "markdown",
   "id": "4b7b6cd7",
   "metadata": {},
   "source": [
    ">Making a Decision "
   ]
  },
  {
   "cell_type": "code",
   "execution_count": 67,
   "id": "46b4f960",
   "metadata": {},
   "outputs": [
    {
     "name": "stdout",
     "output_type": "stream",
     "text": [
      "Null Hypothesis is proved\n"
     ]
    }
   ],
   "source": [
    "if((p >=0.05) and (chi_critical>Cal_chi)):\n",
    "    print('Null Hypothesis is proved')\n",
    "else :\n",
    "    print ('Alternate Hypothesis is proved')"
   ]
  },
  {
   "cell_type": "markdown",
   "id": "da8dab66",
   "metadata": {},
   "source": [
    "FInd-\n",
    "\n",
    "From the Chi-square test performed,\n",
    "\n",
    "    pvalue=0.55 > 0.05 \n",
    "    Chi-Square critical value>Calculated Chi Square value\n",
    "    so we  accept the null Hypothesis\n",
    "   <span style=\"color:red\">there is no dependency between the features “Region” and “Manager”</span>"
   ]
  },
  {
   "cell_type": "markdown",
   "id": "491e47f1",
   "metadata": {},
   "source": [
    "Submitted by-\n",
    "\n",
    "`Kevin M\n",
    " DSA Norka B3 2021`"
   ]
  },
  {
   "cell_type": "markdown",
   "id": "ef0d79a8",
   "metadata": {},
   "source": [
    "---\n",
    "___\n",
    "\n",
    "***"
   ]
  }
 ],
 "metadata": {
  "kernelspec": {
   "display_name": "Python 3",
   "language": "python",
   "name": "python3"
  },
  "language_info": {
   "codemirror_mode": {
    "name": "ipython",
    "version": 3
   },
   "file_extension": ".py",
   "mimetype": "text/x-python",
   "name": "python",
   "nbconvert_exporter": "python",
   "pygments_lexer": "ipython3",
   "version": "3.8.8"
  }
 },
 "nbformat": 4,
 "nbformat_minor": 5
}
